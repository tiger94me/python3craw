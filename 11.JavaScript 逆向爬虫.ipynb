{
 "cells": [
  {
   "cell_type": "markdown",
   "id": "0329c758",
   "metadata": {},
   "source": [
    "# 11.JavaScript 逆向爬虫"
   ]
  }
 ],
 "metadata": {
  "kernelspec": {
   "display_name": "my_env",
   "language": "python",
   "name": "my_env"
  },
  "language_info": {
   "codemirror_mode": {
    "name": "ipython",
    "version": 3
   },
   "file_extension": ".py",
   "mimetype": "text/x-python",
   "name": "python",
   "nbconvert_exporter": "python",
   "pygments_lexer": "ipython3",
   "version": "3.8.10"
  }
 },
 "nbformat": 4,
 "nbformat_minor": 5
}
