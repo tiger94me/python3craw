{
 "cells": [
  {
   "cell_type": "markdown",
   "id": "b4bc5fcf",
   "metadata": {},
   "source": [
    "# 6.1 协和原理"
   ]
  },
  {
   "cell_type": "code",
   "execution_count": 2,
   "id": "a39884f6",
   "metadata": {},
   "outputs": [],
   "source": [
    "import requests\n",
    "import logging\n",
    "import time\n",
    "\n"
   ]
  },
  {
   "cell_type": "code",
   "execution_count": null,
   "id": "c4d1db03",
   "metadata": {},
   "outputs": [],
   "source": [
    "logging.basicConfig(level=logging.INFO,\n",
    "                    format='%(asctime)s - %(levelname)s: %(message)s')\n",
    "\n",
    "TOTAL_NUMBER = 100\n",
    "BASE_URL = 'https://static4.scrape.cuiqingcai.com/detail/{id}'\n",
    "\n",
    "start_time = time.time()\n",
    "for id in range(1, TOTAL_NUMBER + 1):\n",
    "    url = BASE_URL.format(id=id)\n",
    "    logging.info('scraping %s', url)\n",
    "    response = requests.get(url)\n",
    "end_time = time.time()\n",
    "logging.info('total time %s seconds', end_time - start_time)\n"
   ]
  },
  {
   "cell_type": "code",
   "execution_count": null,
   "id": "42340dfc",
   "metadata": {},
   "outputs": [
    {
     "name": "stderr",
     "output_type": "stream",
     "text": [
      "2023-06-17 18:23:48,765 - INFO: scraping https://www.httpbin.org/delay/5\n",
      "2023-06-17 18:23:56,628 - INFO: scraping https://www.httpbin.org/delay/5\n",
      "2023-06-17 18:24:45,527 - INFO: scraping https://www.httpbin.org/delay/5\n",
      "2023-06-17 18:24:53,753 - INFO: scraping https://www.httpbin.org/delay/5\n",
      "2023-06-17 18:25:05,275 - INFO: scraping https://www.httpbin.org/delay/5\n",
      "2023-06-17 18:25:16,217 - INFO: scraping https://www.httpbin.org/delay/5\n",
      "2023-06-17 18:25:26,010 - INFO: scraping https://www.httpbin.org/delay/5\n",
      "2023-06-17 18:25:37,070 - INFO: scraping https://www.httpbin.org/delay/5\n",
      "2023-06-17 18:25:48,501 - INFO: scraping https://www.httpbin.org/delay/5\n",
      "2023-06-17 18:25:59,781 - INFO: scraping https://www.httpbin.org/delay/5\n",
      "2023-06-17 18:26:15,205 - INFO: scraping https://www.httpbin.org/delay/5\n",
      "2023-06-17 18:26:23,954 - INFO: scraping https://www.httpbin.org/delay/5\n",
      "2023-06-17 18:26:36,232 - INFO: scraping https://www.httpbin.org/delay/5\n",
      "2023-06-17 18:26:49,133 - INFO: scraping https://www.httpbin.org/delay/5\n",
      "2023-06-17 18:26:58,839 - INFO: scraping https://www.httpbin.org/delay/5\n",
      "2023-06-17 18:27:09,896 - INFO: scraping https://www.httpbin.org/delay/5\n",
      "2023-06-17 18:27:20,832 - INFO: scraping https://www.httpbin.org/delay/5\n",
      "2023-06-17 18:27:32,694 - INFO: scraping https://www.httpbin.org/delay/5\n",
      "2023-06-17 18:27:41,841 - INFO: scraping https://www.httpbin.org/delay/5\n",
      "2023-06-17 18:27:52,763 - INFO: scraping https://www.httpbin.org/delay/5\n",
      "2023-06-17 18:28:02,866 - INFO: scraping https://www.httpbin.org/delay/5\n",
      "2023-06-17 18:28:16,293 - INFO: scraping https://www.httpbin.org/delay/5\n",
      "2023-06-17 18:28:29,019 - INFO: scraping https://www.httpbin.org/delay/5\n",
      "2023-06-17 18:29:14,137 - INFO: scraping https://www.httpbin.org/delay/5\n",
      "2023-06-17 18:29:26,811 - INFO: scraping https://www.httpbin.org/delay/5\n",
      "2023-06-17 18:29:38,191 - INFO: scraping https://www.httpbin.org/delay/5\n",
      "2023-06-17 18:30:15,002 - INFO: scraping https://www.httpbin.org/delay/5\n",
      "2023-06-17 18:30:28,307 - INFO: scraping https://www.httpbin.org/delay/5\n",
      "2023-06-17 18:30:39,236 - INFO: scraping https://www.httpbin.org/delay/5\n",
      "2023-06-17 18:30:50,797 - INFO: scraping https://www.httpbin.org/delay/5\n",
      "2023-06-17 18:31:04,442 - INFO: scraping https://www.httpbin.org/delay/5\n",
      "2023-06-17 18:31:13,874 - INFO: scraping https://www.httpbin.org/delay/5\n",
      "2023-06-17 18:31:22,744 - INFO: scraping https://www.httpbin.org/delay/5\n",
      "2023-06-17 18:31:31,183 - INFO: scraping https://www.httpbin.org/delay/5\n",
      "2023-06-17 18:31:43,879 - INFO: scraping https://www.httpbin.org/delay/5\n",
      "2023-06-17 18:31:53,222 - INFO: scraping https://www.httpbin.org/delay/5\n",
      "2023-06-17 18:32:34,747 - INFO: scraping https://www.httpbin.org/delay/5\n",
      "2023-06-17 18:33:16,082 - INFO: scraping https://www.httpbin.org/delay/5\n",
      "2023-06-17 18:33:28,543 - INFO: scraping https://www.httpbin.org/delay/5\n",
      "2023-06-17 18:34:21,043 - INFO: scraping https://www.httpbin.org/delay/5\n",
      "2023-06-17 18:34:31,054 - INFO: scraping https://www.httpbin.org/delay/5\n",
      "2023-06-17 18:34:38,563 - INFO: scraping https://www.httpbin.org/delay/5\n",
      "2023-06-17 18:34:50,846 - INFO: scraping https://www.httpbin.org/delay/5\n",
      "2023-06-17 18:35:15,704 - INFO: scraping https://www.httpbin.org/delay/5\n",
      "2023-06-17 18:35:27,480 - INFO: scraping https://www.httpbin.org/delay/5\n",
      "2023-06-17 18:35:40,556 - INFO: scraping https://www.httpbin.org/delay/5\n",
      "2023-06-17 18:35:51,329 - INFO: scraping https://www.httpbin.org/delay/5\n",
      "2023-06-17 18:36:30,787 - INFO: scraping https://www.httpbin.org/delay/5\n",
      "2023-06-17 18:36:39,552 - INFO: scraping https://www.httpbin.org/delay/5\n",
      "2023-06-17 18:36:49,489 - INFO: scraping https://www.httpbin.org/delay/5\n",
      "2023-06-17 18:36:58,106 - INFO: scraping https://www.httpbin.org/delay/5\n",
      "2023-06-17 18:37:09,168 - INFO: scraping https://www.httpbin.org/delay/5\n"
     ]
    }
   ],
   "source": [
    "# 访问返回时间慢的网站 p191,网站返回慢，执行时间较长11分\n",
    "logging.basicConfig(level=logging.INFO,\n",
    "                    format='%(asctime)s - %(levelname)s: %(message)s')\n",
    "\n",
    "TOTAL_NUMBER = 10\n",
    "BASE_URL = 'https://www.httpbin.org/delay/5'\n",
    "\n",
    "start_time = time.time()\n",
    "for _ in range(1, TOTAL_NUMBER + 1):\n",
    "#     url = BASE_URL.format(id=id)\n",
    "    logging.info('scraping %s', BASE_URL)\n",
    "    response = requests.get(BASE_URL)\n",
    "end_time = time.time()\n",
    "logging.info('total time %s seconds', end_time - start_time)"
   ]
  },
  {
   "cell_type": "code",
   "execution_count": null,
   "id": "92b57757",
   "metadata": {},
   "outputs": [],
   "source": [
    "logging.basicConfig(level=logging.INFO,\n",
    "                    format='%(asctime)s - %(levelname)s: %(message)s')\n",
    "\n",
    "TOTAL_NUMBER = 10\n",
    "BASE_URL = 'https://www.httpbin.org/delay/{id}'\n",
    "\n",
    "start_time = time.time()\n",
    "for id in range(1, TOTAL_NUMBER + 1):\n",
    "    url = BASE_URL.format(id=id)\n",
    "    logging.info('scraping %s', url)\n",
    "    response = requests.get(url)\n",
    "end_time = time.time()\n",
    "logging.info('total time %s seconds', end_time - start_time)"
   ]
  },
  {
   "cell_type": "code",
   "execution_count": null,
   "id": "9db1f4c5",
   "metadata": {},
   "outputs": [],
   "source": [
    "# 协程程序 p194\n",
    "import asyncio\n",
    "\n",
    "async def execute(x):\n",
    "    print('Number:', x)\n",
    "\n",
    "coroutine = execute(1)\n",
    "print('Coroutine:', coroutine)\n",
    "print('After calling execute')\n",
    "\n",
    "loop = asyncio.get_event_loop()\n",
    "loop.run_until_complete(coroutine)\n",
    "print('After calling loop')"
   ]
  },
  {
   "cell_type": "code",
   "execution_count": null,
   "id": "3e299935",
   "metadata": {},
   "outputs": [],
   "source": [
    "async def execute(x):\n",
    "    print('Number:', x)\n",
    "    return x\n",
    "\n",
    "coroutine = execute(1)\n",
    "print('Coroutine:', coroutine)\n",
    "print('After calling execute')\n",
    "\n",
    "loop = asyncio.get_event_loop()\n",
    "task = loop.create_task(coroutine)\n",
    "print('Task:', task)\n",
    "loop.run_until_complete(task)\n",
    "print('Task:', task)\n",
    "print('After calling loop')"
   ]
  }
 ],
 "metadata": {
  "kernelspec": {
   "display_name": "my_env",
   "language": "python",
   "name": "my_env"
  },
  "language_info": {
   "codemirror_mode": {
    "name": "ipython",
    "version": 3
   },
   "file_extension": ".py",
   "mimetype": "text/x-python",
   "name": "python",
   "nbconvert_exporter": "python",
   "pygments_lexer": "ipython3",
   "version": "3.8.10"
  }
 },
 "nbformat": 4,
 "nbformat_minor": 5
}
